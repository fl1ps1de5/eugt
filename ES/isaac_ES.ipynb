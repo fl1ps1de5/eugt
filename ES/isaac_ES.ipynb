{
 "cells": [
  {
   "cell_type": "markdown",
   "metadata": {},
   "source": [
    "# Implementation of ES within the Isaac Gym Environment\n",
    "\n",
    "Evolution strategies inspiration: https://openai.com/research/evolution-strategies\n",
    "\n",
    "## Aim\n",
    "\n",
    "To train the weights of a neural network based on the ES algorithm.\n",
    "\n",
    "## Intro\n",
    "\n",
    "We create a NN, which acts as the agent, completing a task within an environment.\n",
    "\n",
    "The agent, or more specifically, the actor, is able to produce actions, given an observation state.\n",
    "\n",
    "We evaluate these actions by calculating the reward from the corresponding new state that is created by undertaking each action.\n",
    "\n",
    "We are aiming to train a NN, to produce actions which will achieve the highest reward over an episode. \n",
    "\n",
    "## Evolution Strategy\n",
    "\n",
    "We begin by generated random weights for the policy\n",
    "\n",
    "We add noise to these weights, to create a population of similar weights, and thus a population of NN's\n",
    "\n",
    "We run each of these NN in the environment for a certain amount of time (episode)\n",
    "\n",
    "For each NN, we calculate the total reward achieved over the episode\n",
    "\n",
    "We then are left with a bunch of reward values, which correspond to the reward achieved by using a certain set of weights for the policy\n",
    "\n",
    "We calculate the weighted average of the candidate policy weights, using the total reward as the *weight*\n",
    "\n",
    "We then use this weighted average as our new base set of weights for the next iteration, and repeat\n",
    "\n"
   ]
  },
  {
   "cell_type": "markdown",
   "metadata": {},
   "source": [
    "## To Do:\n",
    "\n",
    "### Define an environment class\n",
    "\n",
    "This class will be an instance of the Cartpole\n",
    "\n",
    "Functionality:\n",
    "* "
   ]
  },
  {
   "cell_type": "markdown",
   "metadata": {},
   "source": []
  }
 ],
 "metadata": {
  "language_info": {
   "name": "python"
  }
 },
 "nbformat": 4,
 "nbformat_minor": 2
}
